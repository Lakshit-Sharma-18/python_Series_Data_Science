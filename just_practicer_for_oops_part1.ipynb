{
 "cells": [
  {
   "cell_type": "code",
   "execution_count": null,
   "metadata": {},
   "outputs": [],
   "source": [
    "class Atm:\n",
    "    def __init__(self):\n",
    "        self.pin = ''\n",
    "        self.balance = 0\n",
    "        self.menu()\n",
    "\n",
    "    def menu(self):\n",
    "        user_input = input(\"\"\"\n",
    "        Hi how can I help you?\n",
    "        1. Press 1 to create pin\n",
    "        2. Press 2 to change pin\n",
    "        3. Press 3 to check balance\n",
    "        4. Press 4 to withdraw\n",
    "        5. Anything else to exit\n",
    "        \"\"\")\n",
    "    \n",
    "        if user_input == '1':\n",
    "            self.create_pin()\n",
    "            \n",
    "            \n",
    "        elif user_input == '2':\n",
    "            self.change_pin()\n",
    "            \n",
    "        elif user_input == '3':\n",
    "            self.check_balance()\n",
    "            \n",
    "        elif user_input == '4':\n",
    "            self.withdraw()\n",
    "            \n",
    "        else:\n",
    "            exit\n",
    "    \n",
    "    def create_pin(self):\n",
    "        user_pin = int(input(\"Enter your pin :\"))    \n",
    "        self.pin = user_pin\n",
    "        balance = int((input(\"Enter Your balance \")))\n",
    "        print(\"Your pin created successfully\")\n",
    "        self.balance = balance\n",
    "        self.menu()\n",
    "            \n",
    "    def change_pin(self):\n",
    "        given_pin = int(input(\"Enter your previous pin\"))\n",
    "        \n",
    "        if given_pin == self.pin:\n",
    "            new_pin = int(input(\"Enter new pin \"))\n",
    "            self.pin = new_pin\n",
    "            print(\"Your pin is updated\")\n",
    "            self.menu()\n",
    "        else:\n",
    "            print(\"Bhai nahi kar skte pin change sorry samjha kar \")\n",
    "            self.menu()\n",
    "    \n",
    "    def check_balance (self):\n",
    "        checker = int(input(\"Enter your pin\"))\n",
    "        \n",
    "        if checker == self.pin :\n",
    "            print(f\"Your current balance is : {self.balance}\")\n",
    "            self.menu()\n",
    "        else:\n",
    "            print(\"Phele pin sahi likh Tabh dikhaunga kitna paisa hai terpe\") \n",
    "            self.menu()\n",
    "            \n",
    "    def withdraw(self):\n",
    "        checker1 = int (input (\"Enter your pin\"))\n",
    "        if checker1 == self.pin:\n",
    "            amount = int(input(\"Enter the amount you want to withdraw\"))\n",
    "            if amount <= self.balance:\n",
    "                print(f\"Withdrawed amount is : {amount}\")\n",
    "                self.balance = self.balance - amount\n",
    "                self.menu()\n",
    "            else:\n",
    "                print(\"Bhai jitne paise nikal rhaa hai tu utne dal toh de phele \")\n",
    "        else:\n",
    "            print(\"sale Chor\")            \n",
    "        self.menu()"
   ]
  },
  {
   "cell_type": "code",
   "execution_count": 20,
   "metadata": {},
   "outputs": [],
   "source": [
    "obj = Atm()\n"
   ]
  },
  {
   "cell_type": "code",
   "execution_count": null,
   "metadata": {},
   "outputs": [],
   "source": [
    "L = [1,2,3]\n",
    "len(L) # this is a funtion because this function is outside the list class List\n",
    "L.append(4) #this is a method because this function is actually inside the class List and the function which is inside the class is called method"
   ]
  },
  {
   "cell_type": "markdown",
   "metadata": {},
   "source": [
    "so basically there is a concept called as class diagram , in which there are 3 blocks\n",
    "--> class name \n",
    "--> class variables\n",
    "--> class methods \n",
    "\n",
    "Now one more thing that whenever we will see a class diagram there we will see some sign infornt of methods or in datatype   name \n",
    "--> \"+\" sign -- this means that the method is public method / datatype\n",
    "--> \"-\" sign -- this means that the method is private method /datatype\n"
   ]
  },
  {
   "cell_type": "markdown",
   "metadata": {},
   "source": [
    "Note :\n",
    "--> Basically constructor is that type of method inside the class which can automatically gets called without calling the fuction or in other words constructor is that method which call itself when an object is created , this function comes under the category called as magical method or dunder methods.\n",
    "\n",
    "--> We can use the constructor wherever we want to put any configuration data or the methods which a user doent have any control for that particular code\n",
    "\n",
    "--> Golden Rule --- The datatype and the method inside the class can only be accessed by object of that class . No one other than that can access the member or the data of the class. Not even the member function also. So if we want to call one member from another member we will use self keyword.\n",
    "Basically self is non other than the object itself. Thats why wheneer we are making any method we have to give parameter self , sos that other function can indirectly talk we each other have a conversation with each other via object of the class\n"
   ]
  },
  {
   "cell_type": "code",
   "execution_count": 18,
   "metadata": {},
   "outputs": [],
   "source": [
    "class fraction :\n",
    "    def __init__(self,x,y):\n",
    "        self.num = x\n",
    "        self.den = y\n",
    "        \n",
    "    def __str__(self): #-->basically this is also a magical method which is use to give formatting how to print an object of the class\n",
    "        return '{}/{}'.format(self.num,self.den)\n",
    "    \n",
    "    def __add__(self,other): # basically this is also a magiacl method which call itself whenever + operator is used in between 2 objects \n",
    "        new_num = self.num * other.den + self.den *  other.num\n",
    "        new_den = self.den * other.den\n",
    "        return '{}/{}'.format(new_num,new_den)\n",
    "        \n",
    "    def __sub__(self,other): # basically this is also a magiacl method which call itself whenever - operator is used in between 2 objects \n",
    "        new_num = self.num * other.den - self.den *  other.num\n",
    "        new_den = self.den * other.den\n",
    "        return '{}/{}'.format(new_num,new_den)\n",
    "    \n",
    "    def __mul__(self,other): # basically this is also a magiacl method which call itself whenever * operator is used in between 2 objects \n",
    "        new_num = self.num * other.num\n",
    "        new_den = self.den * other.den\n",
    "        return '{}/{}'.format(new_num,new_den)\n",
    "    \n",
    "    def __truediv__(self,other): # basically this is also a magiacl method which call itself whenever / operator is used in between 2 objects \n",
    "        new_num = self.num * other.den\n",
    "        new_den = self.den * other.num\n",
    "        return '{}/{}'.format(new_num,new_den)\n",
    "        \n",
    "    def convert_to_decimal(self):\n",
    "        return self.num/self.den\n"
   ]
  },
  {
   "cell_type": "code",
   "execution_count": 19,
   "metadata": {},
   "outputs": [
    {
     "name": "stdout",
     "output_type": "stream",
     "text": [
      "43/36\n",
      "11/36\n",
      "12/36\n",
      "27/16\n"
     ]
    }
   ],
   "source": [
    "obj1 = fraction(3,4)\n",
    "\n",
    "obj2 = fraction(4,9)\n",
    "\n",
    "print( obj1 + obj2)\n",
    "print( obj1 - obj2)\n",
    "print( obj1 * obj2)\n",
    "print( obj1 / obj2)"
   ]
  },
  {
   "cell_type": "code",
   "execution_count": 20,
   "metadata": {},
   "outputs": [
    {
     "data": {
      "text/plain": [
       "0.75"
      ]
     },
     "execution_count": 20,
     "metadata": {},
     "output_type": "execute_result"
    }
   ],
   "source": [
    "obj1.convert_to_decimal()"
   ]
  },
  {
   "cell_type": "code",
   "execution_count": null,
   "metadata": {},
   "outputs": [],
   "source": []
  }
 ],
 "metadata": {
  "kernelspec": {
   "display_name": "Python 3",
   "language": "python",
   "name": "python3"
  },
  "language_info": {
   "codemirror_mode": {
    "name": "ipython",
    "version": 3
   },
   "file_extension": ".py",
   "mimetype": "text/x-python",
   "name": "python",
   "nbconvert_exporter": "python",
   "pygments_lexer": "ipython3",
   "version": "3.12.4"
  }
 },
 "nbformat": 4,
 "nbformat_minor": 2
}
