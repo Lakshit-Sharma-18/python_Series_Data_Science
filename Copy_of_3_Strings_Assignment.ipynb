{
  "nbformat": 4,
  "nbformat_minor": 0,
  "metadata": {
    "colab": {
      "provenance": [],
      "toc_visible": true
    },
    "kernelspec": {
      "name": "python3",
      "display_name": "Python 3"
    },
    "language_info": {
      "name": "python"
    }
  },
  "cells": [
    {
      "cell_type": "markdown",
      "source": [
        "Q1- Given a string s = \"2025-02-15\" (a date in YYYY-MM-DD format), extract:\n",
        "     \n",
        "*   The year (2025)\n",
        "*   The month (02)\n",
        "*   The date (15)"
      ],
      "metadata": {
        "id": "Z-0IDoHzq4sS"
      }
    },
    {
      "cell_type": "code",
      "source": [
        "s=\"2025-02-15\"\n",
        "year=s[0:4]\n",
        "month=s[5:7]\n",
        "date=s[8:10]\n",
        "print(\"Year: \",year)\n",
        "print(\"Month: \",month)\n",
        "print(\"Date: \",date)"
      ],
      "metadata": {
        "colab": {
          "base_uri": "https://localhost:8080/"
        },
        "id": "O8J_Wm3Fp-2w",
        "outputId": "c6a40a3f-5387-4e29-a71f-331f7f917d29"
      },
      "execution_count": null,
      "outputs": [
        {
          "output_type": "stream",
          "name": "stdout",
          "text": [
            "Year:  2025\n",
            "Month:  02\n",
            "Date:  15\n"
          ]
        }
      ]
    },
    {
      "cell_type": "markdown",
      "source": [
        "Q2- Write a Python program to extract the domain name from an email address. For example, if email = \"user@example.com\", the output should be \"example.com\"."
      ],
      "metadata": {
        "id": "DpQneLHiqupd"
      }
    },
    {
      "cell_type": "code",
      "source": [
        "mail=str(input(\"Enter the mail: \"))\n",
        "domain=mail.split(\"@\")[1]\n",
        "print(\"Domain: \",domain)"
      ],
      "metadata": {
        "colab": {
          "base_uri": "https://localhost:8080/"
        },
        "id": "TXI4K1DSrNO2",
        "outputId": "cccba3d7-1426-4ba2-add1-44bcde4109dd"
      },
      "execution_count": null,
      "outputs": [
        {
          "output_type": "stream",
          "name": "stdout",
          "text": [
            "Enter the mail: aditya@gmail.com\n",
            "Domain:  gmail.com\n"
          ]
        }
      ]
    },
    {
      "cell_type": "markdown",
      "source": [
        "Q3- Given a string s = \"Product_ID: 12345\", extract the numeric product ID (12345)."
      ],
      "metadata": {
        "id": "8kqnmCY6r2Hk"
      }
    },
    {
      "cell_type": "code",
      "source": [
        "s=\"Product_ID:12345\"\n",
        "Numeric_ID=s.split(\":\")[1]\n",
        "print(\"Numeric_ID: \",Numeric_ID)"
      ],
      "metadata": {
        "colab": {
          "base_uri": "https://localhost:8080/"
        },
        "id": "WO8P642CrlkI",
        "outputId": "883917b4-bb0a-401d-b557-da34cab4d8e0"
      },
      "execution_count": null,
      "outputs": [
        {
          "output_type": "stream",
          "name": "stdout",
          "text": [
            "Numeric_ID:  12345\n"
          ]
        }
      ]
    },
    {
      "cell_type": "code",
      "source": [
        "# Q4- Write a Python program to remove leading and trailing whitespace from a string. For example, if s = \"   data_science  \", the output should be \"data_science\"."
      ],
      "metadata": {
        "id": "fKP7PiOLsP9U"
      },
      "execution_count": null,
      "outputs": []
    },
    {
      "cell_type": "code",
      "source": [
        "s=\"      data_science   \"\n",
        "print(s.strip())"
      ],
      "metadata": {
        "colab": {
          "base_uri": "https://localhost:8080/"
        },
        "id": "GnOvTv5Nsqgr",
        "outputId": "72fac7d0-8c52-4147-d494-141dce6b9a1d"
      },
      "execution_count": null,
      "outputs": [
        {
          "output_type": "stream",
          "name": "stdout",
          "text": [
            "data_science\n"
          ]
        }
      ]
    },
    {
      "cell_type": "markdown",
      "source": [
        "Q5- Given a string s = \"Temperature: 25.6°C\", extract the numeric temperature value (25.6)."
      ],
      "metadata": {
        "id": "Dm_Z5lxRs36P"
      }
    },
    {
      "cell_type": "code",
      "source": [
        "s=\"Temperature:25.6°C\"\n",
        "print(s[12:16])"
      ],
      "metadata": {
        "colab": {
          "base_uri": "https://localhost:8080/"
        },
        "id": "PARvOYnJs0b1",
        "outputId": "0751e99f-27f2-4929-dbe3-7c9ff53af70e"
      },
      "execution_count": null,
      "outputs": [
        {
          "output_type": "stream",
          "name": "stdout",
          "text": [
            "25.6\n"
          ]
        }
      ]
    },
    {
      "cell_type": "markdown",
      "source": [
        "Q6- Write a Python program to split a full name into first and last names. For example, if name = \"John Doe\", the output should be \"John\" and \"Doe\"."
      ],
      "metadata": {
        "id": "WtlP-MSOthTp"
      }
    },
    {
      "cell_type": "code",
      "source": [
        "Name=str(input(\"Enter full name: \"))\n",
        "First_Name=Name.split(\" \")[0]\n",
        "Last_Name=Name.split(\" \")[1]\n",
        "print(\"First Name: {} and Last Name: {}\".format(First_Name,Last_Name))"
      ],
      "metadata": {
        "colab": {
          "base_uri": "https://localhost:8080/"
        },
        "id": "iEvmfnWXtkAJ",
        "outputId": "0eb2ee4d-fd64-4752-9f4c-7e69f140a1b8"
      },
      "execution_count": null,
      "outputs": [
        {
          "output_type": "stream",
          "name": "stdout",
          "text": [
            "Enter full name: Aditya Singh\n",
            "First Name: Aditya and Last Name: Singh\n"
          ]
        }
      ]
    },
    {
      "cell_type": "markdown",
      "source": [
        "Q7- Create a string s = \"Data Science\" and:\n",
        "\n",
        "*   Find its length.\n",
        "*   Access the first and last character.\n",
        "*   Slice the string to get \"Data\".\n"
      ],
      "metadata": {
        "id": "60D5JUfiu5SQ"
      }
    },
    {
      "cell_type": "code",
      "source": [
        "s=\"Data Science\"\n",
        "print(\"Length of String: \",len(s))\n",
        "print(\"First Character: \",s[0])\n",
        "print(\"Last Character: \",s[-1])\n",
        "print(\"Slice: \",s[0:4])"
      ],
      "metadata": {
        "colab": {
          "base_uri": "https://localhost:8080/"
        },
        "id": "QGQo2QsZvHwV",
        "outputId": "e363ab33-bbb0-47de-93d3-cf65b69069d9"
      },
      "execution_count": null,
      "outputs": [
        {
          "output_type": "stream",
          "name": "stdout",
          "text": [
            "Length of String:  12\n",
            "First Character:  D\n",
            "Last Character:  e\n",
            "Slice:  Data\n"
          ]
        }
      ]
    },
    {
      "cell_type": "markdown",
      "source": [
        "Q8- Given the string s = \"Python_Programming\", use the replace() function to replace \"_\" with a space."
      ],
      "metadata": {
        "id": "Fa0yKHM_v1mt"
      }
    },
    {
      "cell_type": "code",
      "source": [
        "s=\"Python_Programming\"\n",
        "print(s.replace(\"_\",\" \"))"
      ],
      "metadata": {
        "colab": {
          "base_uri": "https://localhost:8080/"
        },
        "id": "K-6l9KLZvvSX",
        "outputId": "d59d53b9-9c85-4529-8b2a-0b3fb26a0f28"
      },
      "execution_count": null,
      "outputs": [
        {
          "output_type": "stream",
          "name": "stdout",
          "text": [
            "Python Programming\n"
          ]
        }
      ]
    },
    {
      "cell_type": "markdown",
      "source": [
        "Q9- Write a Python program to check if a string s = \"DataScience2023\" is alphanumeric using the isalnum() function."
      ],
      "metadata": {
        "id": "hwMUc5Zrw-vN"
      }
    },
    {
      "cell_type": "code",
      "source": [
        "s=\"DataScience2023\"\n",
        "if(s.isalnum()):\n",
        "     print(\"Alphanumeric\")"
      ],
      "metadata": {
        "colab": {
          "base_uri": "https://localhost:8080/"
        },
        "id": "lUkhbC_fwa6U",
        "outputId": "621f94cc-9449-4f0c-c0a9-eacda2d15722"
      },
      "execution_count": null,
      "outputs": [
        {
          "output_type": "stream",
          "name": "stdout",
          "text": [
            "Alphanumeric\n"
          ]
        }
      ]
    },
    {
      "cell_type": "markdown",
      "source": [
        "Q10- Given the string s = \"hello world\", capitalize the first letter of each word using the title() function."
      ],
      "metadata": {
        "id": "HlgZqO7JyEBl"
      }
    },
    {
      "cell_type": "code",
      "source": [
        "s=\"hello world\"\n",
        "print(s.title())"
      ],
      "metadata": {
        "colab": {
          "base_uri": "https://localhost:8080/"
        },
        "id": "CpARJm0gyFqk",
        "outputId": "cd95e8bf-e032-4a4e-ef49-564da77fbc88"
      },
      "execution_count": null,
      "outputs": [
        {
          "output_type": "stream",
          "name": "stdout",
          "text": [
            "Hello World\n"
          ]
        }
      ]
    },
    {
      "cell_type": "markdown",
      "source": [
        "Q11- Given the string s = \"Data Science is Fun\", use the split() function to split the string into a list of words."
      ],
      "metadata": {
        "id": "HC4THtVKyPsO"
      }
    },
    {
      "cell_type": "code",
      "source": [
        "s=\"Data Science is Fun\"\n",
        "print(s.split(\" \"))"
      ],
      "metadata": {
        "colab": {
          "base_uri": "https://localhost:8080/"
        },
        "id": "4QBDeHNjyMcy",
        "outputId": "e535d1e3-71c2-4af0-fae3-90f8eff1afe1"
      },
      "execution_count": null,
      "outputs": [
        {
          "output_type": "stream",
          "name": "stdout",
          "text": [
            "['Data', 'Science', 'is', 'Fun']\n"
          ]
        }
      ]
    },
    {
      "cell_type": "markdown",
      "source": [
        "Q12- Write a Python program to count the number of occurrences of the letter \"a\" in the string s = \"Data Analysis\" using the count() function."
      ],
      "metadata": {
        "id": "6ihYJcxtybjh"
      }
    },
    {
      "cell_type": "code",
      "source": [
        "s=\"Data Analysis\"\n",
        "print(\"Letter a: \",s.count(\"a\"))"
      ],
      "metadata": {
        "colab": {
          "base_uri": "https://localhost:8080/"
        },
        "id": "JQ5aMstmyYbQ",
        "outputId": "5c23b35e-3e6f-4067-ebed-6b39441a1602"
      },
      "execution_count": null,
      "outputs": [
        {
          "output_type": "stream",
          "name": "stdout",
          "text": [
            "Letter a:  3\n"
          ]
        }
      ]
    },
    {
      "cell_type": "markdown",
      "source": [
        "Q13- Given the string s = \"2023-10-25\", use the split() function to extract the year, month, and day into separate variables."
      ],
      "metadata": {
        "id": "qTj7HNwQymbk"
      }
    },
    {
      "cell_type": "code",
      "source": [
        "s=\"2023-10-25\"\n",
        "year=s.split(\"-\")[0]\n",
        "month=s.split(\"-\")[1]\n",
        "day=s.split(\"-\")[2]\n",
        "print(\"Year: {}, Month: {} and Day: {}\".format(year,month,day))"
      ],
      "metadata": {
        "colab": {
          "base_uri": "https://localhost:8080/"
        },
        "id": "Sxx_8EWSykGY",
        "outputId": "e1cd0c2a-9542-4b3b-dc58-9751b4cd5814"
      },
      "execution_count": null,
      "outputs": [
        {
          "output_type": "stream",
          "name": "stdout",
          "text": [
            "Year: 2023, Month: 10 and Day: 25\n"
          ]
        }
      ]
    },
    {
      "cell_type": "markdown",
      "source": [
        "Q14- Write a Python program to check if a string s = \"data_science\" is a valid Python identifier using the isidentifier() function."
      ],
      "metadata": {
        "id": "5UYBwR7hzJQx"
      }
    },
    {
      "cell_type": "code",
      "source": [
        "s=\"data_science\"\n",
        "if(s.isidentifier()):\n",
        "    print(\"Valid Identifier\")"
      ],
      "metadata": {
        "colab": {
          "base_uri": "https://localhost:8080/"
        },
        "id": "ReKiyha-zC-Z",
        "outputId": "8098004c-48ba-41b4-bc13-8fbcd59b5d09"
      },
      "execution_count": null,
      "outputs": [
        {
          "output_type": "stream",
          "name": "stdout",
          "text": [
            "Valid Identifier\n"
          ]
        }
      ]
    },
    {
      "cell_type": "markdown",
      "source": [
        "Q15- Write a Python program to remove all non-alphanumeric characters from a string s = \"Data@Science#2023!\"."
      ],
      "metadata": {
        "id": "aC_JOmkgzgHZ"
      }
    },
    {
      "cell_type": "code",
      "source": [
        "s=\"Data@Science#2023!\"\n",
        "for i in s:\n",
        "  if(i.isalnum()):\n",
        "    print(i)"
      ],
      "metadata": {
        "colab": {
          "base_uri": "https://localhost:8080/"
        },
        "id": "DFXAOjibzWGt",
        "outputId": "5774b55e-b72e-4632-f5e1-24fffd772948"
      },
      "execution_count": null,
      "outputs": [
        {
          "output_type": "stream",
          "name": "stdout",
          "text": [
            "D\n",
            "a\n",
            "t\n",
            "a\n",
            "S\n",
            "c\n",
            "i\n",
            "e\n",
            "n\n",
            "c\n",
            "e\n",
            "2\n",
            "0\n",
            "2\n",
            "3\n"
          ]
        }
      ]
    },
    {
      "cell_type": "markdown",
      "source": [
        "Q16- Given the string s = \"Order_12345: $25.99\", extract:\n",
        "<br>\n",
        "\n",
        "*   The order ID (12345) using slicing.\n",
        "*   The price (25.99) using slicing and the replace() function."
      ],
      "metadata": {
        "id": "3tQTb9AA731U"
      }
    },
    {
      "cell_type": "code",
      "source": [
        "s=\"Order_12345: $25.99\"\n",
        "Order_ID=s[6:11]\n",
        "Price=s[14:19]\n",
        "print(\"Order ID: {} and Price: {}\".format(Order_ID,Price))"
      ],
      "metadata": {
        "colab": {
          "base_uri": "https://localhost:8080/"
        },
        "id": "QBIphffh7sMV",
        "outputId": "e8a0710c-1a7f-4554-caae-0438eec172cc"
      },
      "execution_count": null,
      "outputs": [
        {
          "output_type": "stream",
          "name": "stdout",
          "text": [
            "Order ID: 12345 and Price: 25.99\n"
          ]
        }
      ]
    },
    {
      "cell_type": "markdown",
      "source": [
        "Q17- Write a Python program to extract all the words that start with a capital letter from a string s = \"Data Science is Fun and Challenging\"."
      ],
      "metadata": {
        "id": "ExQlkGaK9EBg"
      }
    },
    {
      "cell_type": "code",
      "source": [
        "s=\"Data Science is Fun and Challenging\"\n",
        "for i in s.split(\" \"):\n",
        "  if(i[0].upper()):\n",
        "    print(i)"
      ],
      "metadata": {
        "colab": {
          "base_uri": "https://localhost:8080/"
        },
        "id": "iHGcUH5r878F",
        "outputId": "2ccfb816-7f5b-4358-88e9-cb8f320ffa86"
      },
      "execution_count": null,
      "outputs": [
        {
          "output_type": "stream",
          "name": "stdout",
          "text": [
            "Data\n",
            "Science\n",
            "is\n",
            "Fun\n",
            "and\n",
            "Challenging\n"
          ]
        }
      ]
    },
    {
      "cell_type": "markdown",
      "source": [
        "Q18- Given the string s = \"ID: 123, Name: John, Age: 30\", extract the values for ID, Name, and Age into a dictionary using the split() and strip() functions."
      ],
      "metadata": {
        "id": "NI70H5DJ9rmd"
      }
    },
    {
      "cell_type": "code",
      "source": [
        "s=\"ID: 123, Name: John, Age: 30\"\n",
        "data={}\n",
        "for item in s.split(\",\"):\n",
        "  key, value=item.split(\":\")\n",
        "  data[key.strip()]=value.strip()\n",
        "print(data)"
      ],
      "metadata": {
        "colab": {
          "base_uri": "https://localhost:8080/"
        },
        "id": "l4N6w1Ac9nO9",
        "outputId": "8f7a4e83-7cf0-4e6c-cee2-9144fdf97b5b"
      },
      "execution_count": null,
      "outputs": [
        {
          "output_type": "stream",
          "name": "stdout",
          "text": [
            "{'ID': '123', 'Name': 'John', 'Age': '30'}\n"
          ]
        }
      ]
    },
    {
      "cell_type": "markdown",
      "source": [
        "Q19- Write a Python program to extract all the numeric values from a string s = \"The price is $25.99 and the discount is 10%\"."
      ],
      "metadata": {
        "id": "MClci-MnAWqD"
      }
    },
    {
      "cell_type": "code",
      "source": [
        "s=\"The price is $25.99 and the discount is 10%\"\n",
        "for value in s.split(\" \"):\n",
        "  if(value.startswith(\"$\") or value.startswith(\"1\")):\n",
        "    print(value)"
      ],
      "metadata": {
        "colab": {
          "base_uri": "https://localhost:8080/"
        },
        "id": "lY45ot_K-UL_",
        "outputId": "ba9c241f-be5b-412b-e287-7c5af2d14c2b"
      },
      "execution_count": null,
      "outputs": [
        {
          "output_type": "stream",
          "name": "stdout",
          "text": [
            "$25.99\n",
            "10%\n"
          ]
        }
      ]
    },
    {
      "cell_type": "code",
      "source": [],
      "metadata": {
        "id": "lCjf9-NjBLb5"
      },
      "execution_count": null,
      "outputs": []
    }
  ]
}